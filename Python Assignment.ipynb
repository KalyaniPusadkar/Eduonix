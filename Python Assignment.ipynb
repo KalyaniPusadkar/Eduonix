{
 "cells": [
  {
   "cell_type": "markdown",
   "id": "ad88aedf",
   "metadata": {},
   "source": [
    "# Python"
   ]
  },
  {
   "cell_type": "markdown",
   "id": "8fa37715",
   "metadata": {},
   "source": [
    "1.Write a program using list comprehension to find primes \n",
    "in range 2 to 100."
   ]
  },
  {
   "cell_type": "code",
   "execution_count": 1,
   "id": "bea63e85",
   "metadata": {},
   "outputs": [
    {
     "name": "stdout",
     "output_type": "stream",
     "text": [
      "Prime number from 2 to 100: [2, 3, 4, 5, 7, 11, 13, 17, 19, 23, 29, 31, 37, 41, 43, 47, 53, 59, 61, 67, 71, 73, 79, 83, 89, 97]\n"
     ]
    }
   ],
   "source": [
    "#prime numbers using list comperhension\n",
    "primes = [num for num in range(2,101) if 0 not in [num%i for i in range(2,num//2)]]\n",
    "\n",
    "#prinitng result\n",
    "print ('Prime number from 2 to 100:', primes)"
   ]
  },
  {
   "cell_type": "markdown",
   "id": "018a2d33",
   "metadata": {},
   "source": [
    "2.Write a function to reverse a string"
   ]
  },
  {
   "cell_type": "markdown",
   "id": "50a6925b",
   "metadata": {},
   "source": [
    "string='reverse a string'"
   ]
  },
  {
   "cell_type": "code",
   "execution_count": 2,
   "id": "3c8bd885",
   "metadata": {},
   "outputs": [
    {
     "name": "stdout",
     "output_type": "stream",
     "text": [
      "Reverse a string: gnirts a esrever\n"
     ]
    }
   ],
   "source": [
    "#given string\n",
    "string = 'reverse a string'\n",
    "\n",
    "#reversing using indexing\n",
    "reverse_string =string[::-1]\n",
    "\n",
    "#prinitng result\n",
    "print('Reverse a string:',reverse_string)"
   ]
  },
  {
   "cell_type": "markdown",
   "id": "493b9f78",
   "metadata": {},
   "source": [
    "3.Write a program to extract the words from the given list which have their first character in uppercase. Days = ['Monday', 'tuesday','friday', 'Sunday', 'Saturday']\n",
    "\n",
    "Output: ['Monday', 'Sunday', 'Saturday'"
   ]
  },
  {
   "cell_type": "code",
   "execution_count": 3,
   "id": "0d1f9d90",
   "metadata": {},
   "outputs": [
    {
     "data": {
      "text/plain": [
       "['Monday', 'Sunday', 'Saturday']"
      ]
     },
     "execution_count": 3,
     "metadata": {},
     "output_type": "execute_result"
    }
   ],
   "source": [
    "#given list\n",
    "Days = ['Monday', 'tuesday','friday', 'Sunday', 'Saturday']\n",
    "\n",
    "#Elements with uppercase character in first place\n",
    "[i for i in Days if i[0].isupper()]\n"
   ]
  },
  {
   "cell_type": "markdown",
   "id": "094d948f",
   "metadata": {},
   "source": [
    "4.Write a program to extract the year part from the dates in \n",
    "the given list.\n",
    "\n",
    "Batch = ['15-06-1997','15-06-2011','15-06-1993','15-06-2020']\n",
    "\n",
    "Output: ['1997','2011','1993','2020']"
   ]
  },
  {
   "cell_type": "code",
   "execution_count": 12,
   "id": "e3e68727",
   "metadata": {},
   "outputs": [
    {
     "name": "stdout",
     "output_type": "stream",
     "text": [
      "Years are:  ['1997', '2011', '1993', '2020']\n"
     ]
    }
   ],
   "source": [
    "#given list\n",
    "Batch = ['15-06-1997','15-06-2011','15-06-1993','15-06-2020']\n",
    "\n",
    "#extracting year using indexing\n",
    "year = [x[:][-4:] for x in Batch] \n",
    "\n",
    "# prinitng result\n",
    "print('Years are: ',year)\n",
    "\n"
   ]
  },
  {
   "cell_type": "markdown",
   "id": "3fc0632a",
   "metadata": {},
   "source": [
    "5.Write a program swap the keys to values and values to keys of the given dictionary. \n",
    "\n",
    "Module = {'Data Science':1,'Machine Learning':2, 'SQL':3, 'Big Data':4} \n",
    "\n",
    "Output: {1:'Data Science',2:'Machine Learning', 3:'SQL', 4:'Big Data'}"
   ]
  },
  {
   "cell_type": "code",
   "execution_count": 51,
   "id": "84f82c00",
   "metadata": {},
   "outputs": [
    {
     "name": "stdout",
     "output_type": "stream",
     "text": [
      "The original dictionary: {'Data Science': 1, 'Machine Learning': 2, 'SQL': 3, 'Big Data': 4}\n",
      "Swapping dictionary: {1: 'Data Science', 2: 'Machine Learning', 3: 'SQL', 4: 'Big Data'}\n"
     ]
    }
   ],
   "source": [
    "#given dictionary\n",
    "dict = {'Data Science':1,'Machine Learning':2, 'SQL':3, 'Big Data':4}\n",
    "print('The original dictionary:',dict)\n",
    "\n",
    "#swapping dictinary using items()\n",
    "dict1 = {value:key for key, value in dict.items()}\n",
    "print('Swapping dictionary:',dict1)"
   ]
  },
  {
   "cell_type": "markdown",
   "id": "99c46d7d",
   "metadata": {},
   "source": [
    "6.Write a program to count the number of elements in the string (given by the user) that are not present in the 'my_string'. \n",
    "\n",
    "Do not count the white spaces.\n",
    "\n",
    "my_string = 'Data Science'"
   ]
  },
  {
   "cell_type": "code",
   "execution_count": 72,
   "id": "2ccb7584",
   "metadata": {},
   "outputs": [
    {
     "name": "stdout",
     "output_type": "stream",
     "text": [
      "The count of elements in 'my_string': 11\n"
     ]
    }
   ],
   "source": [
    "# considering count as 0\n",
    "count = 0\n",
    "# given string\n",
    "my_string = \"Data Science\"\n",
    "#for loop for counting elements\n",
    "for i in my_string:\n",
    "    if i!= \" \":\n",
    "        count += 1\n",
    "#printing result\n",
    "print(\"The count of elements in 'my_string':\",count)"
   ]
  },
  {
   "cell_type": "markdown",
   "id": "9d8337ba",
   "metadata": {},
   "source": [
    "7.Define a function to check whether a number is in a range (1000,10000) or not."
   ]
  },
  {
   "cell_type": "code",
   "execution_count": 40,
   "id": "e3a1c4ae",
   "metadata": {},
   "outputs": [
    {
     "data": {
      "text/plain": [
       "True"
      ]
     },
     "execution_count": 40,
     "metadata": {},
     "output_type": "execute_result"
    }
   ],
   "source": [
    "#defining function\n",
    "def Number(num):\n",
    "    if num in range(1000, 10000):\n",
    "        return True\n",
    "    return False\n",
    "#input by the user\n",
    "Number(5000)"
   ]
  },
  {
   "cell_type": "markdown",
   "id": "79ecb88b",
   "metadata": {},
   "source": [
    "8.Write a program to calculate the sum of all elements in the list.\n",
    "\n",
    "test_score = [10, 32, 23, 14, 25]"
   ]
  },
  {
   "cell_type": "code",
   "execution_count": 33,
   "id": "966743cc",
   "metadata": {},
   "outputs": [
    {
     "name": "stdout",
     "output_type": "stream",
     "text": [
      "Sum of all elements in the list: 104\n"
     ]
    }
   ],
   "source": [
    "#given list\n",
    "test_score = [10, 32, 23, 14, 25]\n",
    "# sum of all numbers in the list\n",
    "s=[i for i in test_score] \n",
    "#printing result\n",
    "print('Sum of all elements in the list:',sum(s))\n",
    "  \n",
    "    \n",
    "    "
   ]
  },
  {
   "cell_type": "markdown",
   "id": "d083692d",
   "metadata": {},
   "source": [
    "9.Replace all even numbers in the array with -1.\n",
    "\n",
    "Use the array given below num_array = np.array([0, 21, 32, 13, 44, 45, 26, 28, 38, 34, 65, 48, 76])"
   ]
  },
  {
   "cell_type": "code",
   "execution_count": 54,
   "id": "642b1a65",
   "metadata": {},
   "outputs": [],
   "source": [
    "#importing library for array\n",
    "import numpy as np"
   ]
  },
  {
   "cell_type": "code",
   "execution_count": 71,
   "id": "7c21367b",
   "metadata": {},
   "outputs": [
    {
     "name": "stdout",
     "output_type": "stream",
     "text": [
      "Array with replacing even numbers with(-1): [-1 21 -1 13 -1 45 -1 28 -1 34 -1 48 -1]\n"
     ]
    }
   ],
   "source": [
    "#given array\n",
    "num_array = np.array([0, 21, 32, 13, 44, 45, 26, 28, 38, 34, 65, 48, 76])\n",
    "#replacing even with(-1)\n",
    "for i in range(len(num_array)): \n",
    "    if(i%2==0): \n",
    "        num_array[i]=-1 \n",
    "#printing result \n",
    "print(\"Array with replacing even numbers with(-1):\",num_array) "
   ]
  },
  {
   "cell_type": "markdown",
   "id": "2e36cc99",
   "metadata": {},
   "source": [
    "10.Find the minimum value along each of the rows. \n",
    "\n",
    "Create a 2D Numpy array from list of lists \n",
    "\n",
    "Score = np.array([[210, 402, 383], [140, 375, 106], [140, 125, 217], [292, 240, 295]])"
   ]
  },
  {
   "cell_type": "code",
   "execution_count": 56,
   "id": "a08b0b0e",
   "metadata": {},
   "outputs": [],
   "source": [
    "#importing library for array\n",
    "import numpy as np"
   ]
  },
  {
   "cell_type": "code",
   "execution_count": 57,
   "id": "97ce92c2",
   "metadata": {},
   "outputs": [],
   "source": [
    "#given array in 2D \n",
    "Score = np.array([[210, 402, 383], [140, 375, 106], [140, 125, 217], [292, 240, 295]])"
   ]
  },
  {
   "cell_type": "code",
   "execution_count": 58,
   "id": "d41451b4",
   "metadata": {},
   "outputs": [
    {
     "data": {
      "text/plain": [
       "array([[210, 402, 383],\n",
       "       [140, 375, 106],\n",
       "       [140, 125, 217],\n",
       "       [292, 240, 295]])"
      ]
     },
     "execution_count": 58,
     "metadata": {},
     "output_type": "execute_result"
    }
   ],
   "source": [
    "Score"
   ]
  },
  {
   "cell_type": "code",
   "execution_count": 61,
   "id": "74162989",
   "metadata": {},
   "outputs": [
    {
     "data": {
      "text/plain": [
       "2"
      ]
     },
     "execution_count": 61,
     "metadata": {},
     "output_type": "execute_result"
    }
   ],
   "source": [
    "#Dimension of the array\n",
    "Score.ndim"
   ]
  },
  {
   "cell_type": "code",
   "execution_count": 70,
   "id": "f63c60c1",
   "metadata": {},
   "outputs": [
    {
     "name": "stdout",
     "output_type": "stream",
     "text": [
      "The minimum value along each of the row: [210 106 125 240]\n"
     ]
    }
   ],
   "source": [
    "# minimun value of each row in the array\n",
    "print('The minimum value along each of the row:',Score.min(axis=1))\n"
   ]
  }
 ],
 "metadata": {
  "kernelspec": {
   "display_name": "Python 3",
   "language": "python",
   "name": "python3"
  },
  "language_info": {
   "codemirror_mode": {
    "name": "ipython",
    "version": 3
   },
   "file_extension": ".py",
   "mimetype": "text/x-python",
   "name": "python",
   "nbconvert_exporter": "python",
   "pygments_lexer": "ipython3",
   "version": "3.8.8"
  }
 },
 "nbformat": 4,
 "nbformat_minor": 5
}
